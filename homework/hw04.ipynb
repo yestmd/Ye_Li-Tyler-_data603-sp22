{
 "cells": [
  {
   "cell_type": "markdown",
   "id": "87c23cab-88bc-433e-82d6-5ffab81a5a33",
   "metadata": {},
   "source": [
    "create spark context"
   ]
  },
  {
   "cell_type": "code",
   "execution_count": 1,
   "id": "e21cc866-9b00-4e45-a9d0-9a648191e4c9",
   "metadata": {},
   "outputs": [],
   "source": [
    "import pyspark\n",
    "from pyspark.sql import SparkSession\n",
    "from pyspark.sql import SQLContext\n",
    "import pyspark.sql.functions as F\n",
    "from pyspark.sql.functions import *\n",
    "spark = SparkSession.builder.getOrCreate()"
   ]
  },
  {
   "cell_type": "code",
   "execution_count": 2,
   "id": "3c312d71-571b-4294-bc61-aef76893c433",
   "metadata": {},
   "outputs": [
    {
     "data": {
      "text/html": [
       "\n",
       "            <div>\n",
       "                <p><b>SparkSession - in-memory</b></p>\n",
       "                \n",
       "        <div>\n",
       "            <p><b>SparkContext</b></p>\n",
       "\n",
       "            <p><a href=\"http://aa08defc849a:4040\">Spark UI</a></p>\n",
       "\n",
       "            <dl>\n",
       "              <dt>Version</dt>\n",
       "                <dd><code>v3.2.1</code></dd>\n",
       "              <dt>Master</dt>\n",
       "                <dd><code>local[*]</code></dd>\n",
       "              <dt>AppName</dt>\n",
       "                <dd><code>pyspark-shell</code></dd>\n",
       "            </dl>\n",
       "        </div>\n",
       "        \n",
       "            </div>\n",
       "        "
      ],
      "text/plain": [
       "<pyspark.sql.session.SparkSession at 0x7ff10beb3df0>"
      ]
     },
     "execution_count": 2,
     "metadata": {},
     "output_type": "execute_result"
    }
   ],
   "source": [
    "spark"
   ]
  },
  {
   "cell_type": "markdown",
   "id": "8013025e-288b-492f-9870-a5999439bbd6",
   "metadata": {},
   "source": [
    "1. specify the schema for the crime data set"
   ]
  },
  {
   "cell_type": "code",
   "execution_count": 6,
   "id": "8fb3aad6-88a9-48ed-b22e-295af38f9b06",
   "metadata": {},
   "outputs": [],
   "source": [
    "from pyspark.sql.types import StructType,StructField, StringType, IntegerType, FloatType, TimestampType"
   ]
  },
  {
   "cell_type": "code",
   "execution_count": 7,
   "id": "41a04b23-55f0-4577-a17c-99bf6db0cd43",
   "metadata": {},
   "outputs": [],
   "source": [
    "structureSchema = StructType([ \\\n",
    "    StructField(\"X\",FloatType(),True), \\\n",
    "    StructField(\"Y\",FloatType(),True), \\\n",
    "    StructField(\"RowID\",StringType(),True), \\\n",
    "    StructField(\"CrimeDateTime\", TimestampType(), True), \\\n",
    "    StructField(\"CrimeCode\", StringType(), True), \\\n",
    "    StructField(\"Location\", StringType(), True),  \\\n",
    "    StructField(\"Description\", StringType(), True),  \\\n",
    "    StructField(\"Inside_Outside\", StringType(), True),  \\\n",
    "    StructField(\"Weapon\", StringType(), True),  \\\n",
    "    StructField(\"Post\", StringType(), True),  \\\n",
    "    StructField(\"District\", StringType(), True),  \\\n",
    "    StructField(\"Neighborhood\", StringType(), True),  \\\n",
    "    StructField(\"Latitude\", FloatType(), True),  \\\n",
    "    StructField(\"Longitude\", FloatType(), True),  \\\n",
    "    StructField('GeoLocation', StringType(), True),  \\\n",
    "    StructField(\"Premise\", StringType(), True),  \\\n",
    "    StructField(\"VRIName\", StringType(), True),  \\\n",
    "    StructField(\"Total_Incidents\", StringType(), True),  \\\n",
    "    StructField(\"Shape\", StringType(), True),  \\\n",
    "  ])"
   ]
  },
  {
   "cell_type": "code",
   "execution_count": 8,
   "id": "3728d5d8-37ae-4362-a202-742317847a7a",
   "metadata": {},
   "outputs": [
    {
     "data": {
      "text/plain": [
       "'3.2.1'"
      ]
     },
     "execution_count": 8,
     "metadata": {},
     "output_type": "execute_result"
    }
   ],
   "source": [
    "spark.version"
   ]
  },
  {
   "cell_type": "markdown",
   "id": "4a86d1c1-a92c-4f0d-b30f-fe869ea39d59",
   "metadata": {},
   "source": [
    "2. Read the file using the schema definition"
   ]
  },
  {
   "cell_type": "code",
   "execution_count": 9,
   "id": "b0a87d67-e372-4bc6-8a64-a975d078e521",
   "metadata": {},
   "outputs": [],
   "source": [
    "#df = spark.read.csv(\"Part1_Crime_data.csv\", header=True,  schema=structureSchema) #nullValue='Null',"
   ]
  },
  {
   "cell_type": "code",
   "execution_count": 10,
   "id": "65305433-0865-4c33-a872-4dd98dc04304",
   "metadata": {},
   "outputs": [],
   "source": [
    "df_=(spark.read.format(\"csv\")\n",
    "    .option(\"header\",\"true\")\n",
    "    .option(\"timestampFormat\", \"yyyy/MM/dd HH:mm:ss+00\")\n",
    "    .schema(structureSchema)\n",
    "    .option(\"inferSchema\", \"true\")\n",
    "    .load(\"Part1_Crime_data.csv\"))"
   ]
  },
  {
   "cell_type": "markdown",
   "id": "5009e726-64be-493c-9fd3-b871b0edf33c",
   "metadata": {},
   "source": [
    "3. Cache the DataFrame"
   ]
  },
  {
   "cell_type": "code",
   "execution_count": 11,
   "id": "a1adb6dd-3d9c-44b7-bbca-bed61ec10339",
   "metadata": {},
   "outputs": [],
   "source": [
    "df=df_.persist()"
   ]
  },
  {
   "cell_type": "markdown",
   "id": "4ff703c5-86d6-4e7d-88c4-a04bfb313788",
   "metadata": {},
   "source": [
    "4. Show the count of the rows"
   ]
  },
  {
   "cell_type": "code",
   "execution_count": 12,
   "id": "26ed37f9-b1b1-4234-a22c-1f27a74e2463",
   "metadata": {},
   "outputs": [
    {
     "data": {
      "text/plain": [
       "513158"
      ]
     },
     "execution_count": 12,
     "metadata": {},
     "output_type": "execute_result"
    }
   ],
   "source": [
    "row = df.count()\n",
    "row"
   ]
  },
  {
   "cell_type": "markdown",
   "id": "cb4aa6f2-7305-4f1c-b787-23328ed11069",
   "metadata": {},
   "source": [
    "5. print the schema"
   ]
  },
  {
   "cell_type": "code",
   "execution_count": 13,
   "id": "aa28cdd9-b0dd-4cbb-9951-84f1d8d931c2",
   "metadata": {},
   "outputs": [
    {
     "name": "stdout",
     "output_type": "stream",
     "text": [
      "root\n",
      " |-- X: float (nullable = true)\n",
      " |-- Y: float (nullable = true)\n",
      " |-- RowID: string (nullable = true)\n",
      " |-- CrimeDateTime: timestamp (nullable = true)\n",
      " |-- CrimeCode: string (nullable = true)\n",
      " |-- Location: string (nullable = true)\n",
      " |-- Description: string (nullable = true)\n",
      " |-- Inside_Outside: string (nullable = true)\n",
      " |-- Weapon: string (nullable = true)\n",
      " |-- Post: string (nullable = true)\n",
      " |-- District: string (nullable = true)\n",
      " |-- Neighborhood: string (nullable = true)\n",
      " |-- Latitude: float (nullable = true)\n",
      " |-- Longitude: float (nullable = true)\n",
      " |-- GeoLocation: string (nullable = true)\n",
      " |-- Premise: string (nullable = true)\n",
      " |-- VRIName: string (nullable = true)\n",
      " |-- Total_Incidents: string (nullable = true)\n",
      " |-- Shape: string (nullable = true)\n",
      "\n"
     ]
    }
   ],
   "source": [
    "df.printSchema()"
   ]
  },
  {
   "cell_type": "markdown",
   "id": "ed585ccc-dfed-4ad9-9b56-bc5199b09126",
   "metadata": {},
   "source": [
    "6. display first 5 rows"
   ]
  },
  {
   "cell_type": "code",
   "execution_count": 14,
   "id": "e0e3f48d-72ed-413f-a32c-441828036c63",
   "metadata": {},
   "outputs": [
    {
     "name": "stdout",
     "output_type": "stream",
     "text": [
      "+---------+---------+-----+-------------------+---------+-------------------+--------------+--------------+-------+----+---------+----------------+--------+---------+------------------+---------------+------------+---------------+-----+\n",
      "|        X|        Y|RowID|      CrimeDateTime|CrimeCode|           Location|   Description|Inside_Outside| Weapon|Post| District|    Neighborhood|Latitude|Longitude|       GeoLocation|        Premise|     VRIName|Total_Incidents|Shape|\n",
      "+---------+---------+-----+-------------------+---------+-------------------+--------------+--------------+-------+----+---------+----------------+--------+---------+------------------+---------------+------------+---------------+-----+\n",
      "|1420074.1| 594160.6|    1|2022-02-26 04:00:00|       4E|  200 W MONUMENT ST|COMMON ASSAULT|          null|     NA| 124|  CENTRAL|    MOUNT VERNON| 39.2975| -76.6193|(39.2975,-76.6193)|           null|        null|              1| null|\n",
      "|1411374.2| 589791.4|    2|2022-02-26 01:26:30|       9S| 2100 FREDERICK AVE|      SHOOTING|       Outside|FIREARM| 835|SOUTHWEST|CARROLLTON RIDGE| 39.2856| -76.6501|(39.2856,-76.6501)|COMMON BUSINESS|Tri-District|              1| null|\n",
      "|1411401.1|582761.75|    3|2022-02-26 10:22:00|       4E| 2000 GRINNALDS AVE|COMMON ASSAULT|          null|     NA| 831|SOUTHWEST|    MORRELL PARK| 39.2663| -76.6501|(39.2663,-76.6501)|           null|        null|              1| null|\n",
      "|1422663.1| 597595.4|    4|2022-02-26 01:11:00|       7A|    400 E OLIVER ST|    AUTO THEFT|          null|     NA| 313|  EASTERN| GREENMOUNT WEST| 39.3069| -76.6101|(39.3069,-76.6101)|           null|        null|              1| null|\n",
      "|1440496.5| 607767.1|    5|2022-02-26 12:30:00|       4B|5300 PLAINFIELD AVE|  AGG. ASSAULT|          null|  KNIFE| 444|NORTHEAST|       FRANKFORD| 39.3346| -76.5469|(39.3346,-76.5469)|           null|        null|              1| null|\n",
      "+---------+---------+-----+-------------------+---------+-------------------+--------------+--------------+-------+----+---------+----------------+--------+---------+------------------+---------------+------------+---------------+-----+\n",
      "only showing top 5 rows\n",
      "\n"
     ]
    }
   ],
   "source": [
    "df.show(5)"
   ]
  },
  {
   "cell_type": "markdown",
   "id": "cbd627ee-5ae1-4dd3-ae84-6b1a4dfafaa1",
   "metadata": {},
   "source": [
    "Answer following questions using PySpark\n",
    "1. What are distinct crime codes?"
   ]
  },
  {
   "cell_type": "code",
   "execution_count": 15,
   "id": "37d71a66-5e08-44e5-93a5-48924f86e120",
   "metadata": {},
   "outputs": [
    {
     "name": "stdout",
     "output_type": "stream",
     "text": [
      "+---------+\n",
      "|CrimeCode|\n",
      "+---------+\n",
      "|       3P|\n",
      "|       3K|\n",
      "|      3BJ|\n",
      "|       1A|\n",
      "|       3M|\n",
      "|       5F|\n",
      "|       4B|\n",
      "|       3B|\n",
      "|       7A|\n",
      "|      3NF|\n",
      "|      3EF|\n",
      "|       3N|\n",
      "|       5D|\n",
      "|       6K|\n",
      "|      3LO|\n",
      "|      3AF|\n",
      "|       7B|\n",
      "|      3GO|\n",
      "|     3AJF|\n",
      "|      8GV|\n",
      "+---------+\n",
      "only showing top 20 rows\n",
      "\n",
      "+----------------+\n",
      "|count(CrimeCode)|\n",
      "+----------------+\n",
      "|              85|\n",
      "+----------------+\n",
      "\n"
     ]
    }
   ],
   "source": [
    "df.select(\"CrimeCode\").distinct().show()\n",
    "\n",
    "#total number of crimecode\n",
    "df.agg(F.countDistinct(\"CrimeCode\")).show()\n",
    "  \n",
    "# alternatively, if want to show all the row\n",
    "# df.select(\"CrimeCode\").distinct().show(df.count(), False) \n",
    "# show total number of crimecode\n",
    "#df.select(\"CrimeCode\").distinct().count()"
   ]
  },
  {
   "cell_type": "markdown",
   "id": "db8518c3-3a1c-4426-a851-b3a52a88331d",
   "metadata": {},
   "source": [
    "2. Count the number of crimes by the crime codes and order by the resulting counts in descending order"
   ]
  },
  {
   "cell_type": "code",
   "execution_count": 16,
   "id": "8bbbebee-bfbe-45cc-83cc-18359cbfe39a",
   "metadata": {},
   "outputs": [
    {
     "name": "stdout",
     "output_type": "stream",
     "text": [
      "+---------+-----+\n",
      "|CrimeCode|count|\n",
      "+---------+-----+\n",
      "|       4E|91650|\n",
      "|       6D|68427|\n",
      "|       5A|43928|\n",
      "|       7A|40274|\n",
      "|       6J|27636|\n",
      "|       6G|26858|\n",
      "|       6E|24300|\n",
      "|       6C|23227|\n",
      "|       4C|22438|\n",
      "|       5D|14971|\n",
      "|      3AF|14739|\n",
      "|       4B|14460|\n",
      "|       4A|13226|\n",
      "|       3B|10737|\n",
      "|       4D| 7232|\n",
      "|       5B| 6475|\n",
      "|       9S| 5443|\n",
      "|       6F| 5081|\n",
      "|       5C| 4917|\n",
      "|       6B| 4106|\n",
      "+---------+-----+\n",
      "only showing top 20 rows\n",
      "\n"
     ]
    }
   ],
   "source": [
    "df.groupBy(\"CrimeCode\").count().sort(desc(\"count\")).show()"
   ]
  },
  {
   "cell_type": "markdown",
   "id": "5ee98707-3182-4595-9b79-29e7c41c3a4b",
   "metadata": {},
   "source": [
    "3. Which neighborhood had most crimes?"
   ]
  },
  {
   "cell_type": "code",
   "execution_count": 17,
   "id": "bf512c9d-2cfc-4a9b-b643-b0fb89d850a6",
   "metadata": {},
   "outputs": [
    {
     "name": "stdout",
     "output_type": "stream",
     "text": [
      "+------------+-----+\n",
      "|Neighborhood|count|\n",
      "+------------+-----+\n",
      "|    DOWNTOWN|17799|\n",
      "+------------+-----+\n",
      "only showing top 1 row\n",
      "\n"
     ]
    }
   ],
   "source": [
    "df.groupBy(\"Neighborhood\").count().sort(desc(\"count\")).show(1)"
   ]
  },
  {
   "cell_type": "markdown",
   "id": "589914c0-1aec-4da0-9260-4129fedfe3af",
   "metadata": {},
   "source": [
    "4. Which month of the year had most crimes?"
   ]
  },
  {
   "cell_type": "code",
   "execution_count": 18,
   "id": "42e44899-5d44-4906-ad0d-3f6005b5972f",
   "metadata": {},
   "outputs": [
    {
     "name": "stdout",
     "output_type": "stream",
     "text": [
      "+------------+-----+\n",
      "|crimes_month|count|\n",
      "+------------+-----+\n",
      "|           8|46327|\n",
      "+------------+-----+\n",
      "only showing top 1 row\n",
      "\n"
     ]
    }
   ],
   "source": [
    "df_year=df.withColumn(\"crimes_month\", month(df.CrimeDateTime))\n",
    "df_year.groupBy(\"crimes_month\").count().sort(desc(\"count\")).show(1)"
   ]
  },
  {
   "cell_type": "markdown",
   "id": "e890c1c7-2570-4622-983c-49642f3d6bc8",
   "metadata": {},
   "source": [
    "5. What weapons were used?"
   ]
  },
  {
   "cell_type": "code",
   "execution_count": 19,
   "id": "cc01ce84-d14c-44ec-ba82-8ba2ad232380",
   "metadata": {},
   "outputs": [
    {
     "name": "stdout",
     "output_type": "stream",
     "text": [
      "+-------+\n",
      "| Weapon|\n",
      "+-------+\n",
      "|  HANDS|\n",
      "|  KNIFE|\n",
      "|  OTHER|\n",
      "|   FIRE|\n",
      "|FIREARM|\n",
      "+-------+\n",
      "\n"
     ]
    }
   ],
   "source": [
    "df_flt=df.filter((df.Weapon.isNotNull()) & (df.Weapon != \"NA\")).cache()\n",
    "df_flt.select(\"Weapon\").distinct().show()"
   ]
  },
  {
   "cell_type": "markdown",
   "id": "8e22b3a0-48fb-4597-838f-c7668b7de58c",
   "metadata": {},
   "source": [
    "6. Which weapon was used the most? "
   ]
  },
  {
   "cell_type": "code",
   "execution_count": 20,
   "id": "fa72c466-0172-406b-bd1d-f748602f5cf4",
   "metadata": {},
   "outputs": [
    {
     "name": "stdout",
     "output_type": "stream",
     "text": [
      "+-------+-----+\n",
      "| Weapon|count|\n",
      "+-------+-----+\n",
      "|FIREARM|46139|\n",
      "+-------+-----+\n",
      "only showing top 1 row\n",
      "\n"
     ]
    }
   ],
   "source": [
    "df_flt.groupby(\"Weapon\").count().sort(desc(\"count\")).show(1)"
   ]
  },
  {
   "cell_type": "code",
   "execution_count": null,
   "id": "dfc3a22b-5d39-4ff2-aacf-7fde0b6f63e8",
   "metadata": {},
   "outputs": [],
   "source": []
  }
 ],
 "metadata": {
  "kernelspec": {
   "display_name": "Python 3 (ipykernel)",
   "language": "python",
   "name": "python3"
  },
  "language_info": {
   "codemirror_mode": {
    "name": "ipython",
    "version": 3
   },
   "file_extension": ".py",
   "mimetype": "text/x-python",
   "name": "python",
   "nbconvert_exporter": "python",
   "pygments_lexer": "ipython3",
   "version": "3.9.10"
  }
 },
 "nbformat": 4,
 "nbformat_minor": 5
}
