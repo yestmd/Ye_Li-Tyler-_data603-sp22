{
 "cells": [
  {
   "cell_type": "code",
   "execution_count": 1,
   "id": "indoor-score",
   "metadata": {},
   "outputs": [],
   "source": [
    "import requests"
   ]
  },
  {
   "cell_type": "code",
   "execution_count": 2,
   "id": "chubby-jonathan",
   "metadata": {},
   "outputs": [],
   "source": [
    "book = requests.get('https://www.gutenberg.org/files/2600/2600-0.txt')"
   ]
  },
  {
   "cell_type": "code",
   "execution_count": 3,
   "id": "meaningful-opera",
   "metadata": {},
   "outputs": [
    {
     "data": {
      "text/plain": [
       "requests.models.Response"
      ]
     },
     "execution_count": 3,
     "metadata": {},
     "output_type": "execute_result"
    }
   ],
   "source": [
    "type(book)"
   ]
  },
  {
   "cell_type": "code",
   "execution_count": 4,
   "id": "allied-infrastructure",
   "metadata": {},
   "outputs": [
    {
     "data": {
      "text/plain": [
       "200"
      ]
     },
     "execution_count": 4,
     "metadata": {},
     "output_type": "execute_result"
    }
   ],
   "source": [
    "book.status_code"
   ]
  },
  {
   "cell_type": "code",
   "execution_count": 5,
   "id": "better-factor",
   "metadata": {},
   "outputs": [
    {
     "data": {
      "text/plain": [
       "'ï»¿The Project Gutenberg eBook of War and Peace, by Leo Tolstoy\\r\\n\\r\\nThis eBook is for the use of anyo'"
      ]
     },
     "execution_count": 5,
     "metadata": {},
     "output_type": "execute_result"
    }
   ],
   "source": [
    "book.text[:100]"
   ]
  },
  {
   "cell_type": "code",
   "execution_count": 6,
   "id": "narrative-methodology",
   "metadata": {},
   "outputs": [
    {
     "data": {
      "text/plain": [
       "3359408"
      ]
     },
     "execution_count": 6,
     "metadata": {},
     "output_type": "execute_result"
    }
   ],
   "source": [
    "len(book.text)"
   ]
  },
  {
   "cell_type": "code",
   "execution_count": 7,
   "id": "federal-buying",
   "metadata": {},
   "outputs": [],
   "source": [
    "book_text = book.text.replace('.', '')"
   ]
  },
  {
   "cell_type": "code",
   "execution_count": 8,
   "id": "boxed-operation",
   "metadata": {},
   "outputs": [],
   "source": [
    "book_text = book_text.lower()"
   ]
  },
  {
   "cell_type": "code",
   "execution_count": 10,
   "id": "inside-memorial",
   "metadata": {},
   "outputs": [
    {
     "data": {
      "text/plain": [
       "'ï»¿the project gutenberg ebook of war and peace, by leo tolstoy\\r\\n\\r\\nthis ebook is for the use of anyone anywhere in the united states and\\r\\nmost other parts of the world at no cost and with almost no restrictions\\r\\nwhatsoever you may copy it, give it away or re-use it under the terms\\r\\nof the project gutenberg license included with this ebook or online at\\r\\nwwwgutenbergorg if you are not located in the united states, you\\r\\nwill have to check the laws of the country where you are located before\\r\\nusing this ebook\\r\\n\\r\\ntitle: war and peace\\r\\n\\r\\nauthor: leo tolstoy\\r\\n\\r\\ntranslators: louise and aylmer maude\\r\\n\\r\\nrelease date: april, 2001 [ebook #2600]\\r\\n[most recently updated: january 21, 2019]\\r\\n\\r\\nlanguage: english\\r\\n\\r\\ncharacter set encoding: utf-8\\r\\n\\r\\nproduced by: an anonymous volunteer and david widger\\r\\n\\r\\n*** start of the project gutenberg ebook war and peace ***\\r\\n\\r\\n\\r\\n\\r\\n\\r\\nwar and peace\\r\\n\\r\\n\\r\\nby leo tolstoy/tolstoi\\r\\n\\r\\n\\r\\n    contents\\r\\n\\r\\n    book one: 1805\\r\\n\\r\\n    chapter i\\r\\n\\r\\n    chapter ii\\r\\n\\r\\n    chapter iii'"
      ]
     },
     "execution_count": 10,
     "metadata": {},
     "output_type": "execute_result"
    }
   ],
   "source": [
    "book_text[:1000]"
   ]
  },
  {
   "cell_type": "code",
   "execution_count": 11,
   "id": "intensive-cutting",
   "metadata": {},
   "outputs": [],
   "source": [
    "book_text = book_text.replace('\\r\\n', ' ')"
   ]
  },
  {
   "cell_type": "code",
   "execution_count": 12,
   "id": "current-favor",
   "metadata": {},
   "outputs": [
    {
     "data": {
      "text/plain": [
       "'ï»¿the project gutenberg ebook of war and peace, by leo tolstoy  this ebook is for the use of anyone anywhere in the united states and most other parts of the world at no cost and with almost no restrictions whatsoever you may copy it, give it away or re-use it under the terms of the project gutenberg license included with this ebook or online at wwwgutenbergorg if you are not located in the united states, you will have to check the laws of the country where you are located before using this ebook  title: war and peace  author: leo tolstoy  translators: louise and aylmer maude  release date: april, 2001 [ebook #2600] [most recently updated: january 21, 2019]  language: english  character set encoding: utf-8  produced by: an anonymous volunteer and david widger  *** start of the project gutenberg ebook war and peace ***     war and peace   by leo tolstoy/tolstoi       contents      book one: 1805      chapter i      chapter ii      chapter iii      chapter iv      chapter v      chapter'"
      ]
     },
     "execution_count": 12,
     "metadata": {},
     "output_type": "execute_result"
    }
   ],
   "source": [
    "book_text[:1000]"
   ]
  },
  {
   "cell_type": "code",
   "execution_count": 13,
   "id": "manual-familiar",
   "metadata": {},
   "outputs": [],
   "source": [
    "list_of_words = book_text.split(' ')"
   ]
  },
  {
   "cell_type": "code",
   "execution_count": 14,
   "id": "economic-titanium",
   "metadata": {},
   "outputs": [
    {
     "data": {
      "text/plain": [
       "582999"
      ]
     },
     "execution_count": 14,
     "metadata": {},
     "output_type": "execute_result"
    }
   ],
   "source": [
    "len(list_of_words)"
   ]
  },
  {
   "cell_type": "code",
   "execution_count": 15,
   "id": "grateful-phase",
   "metadata": {},
   "outputs": [
    {
     "data": {
      "text/plain": [
       "['ï»¿the',\n",
       " 'project',\n",
       " 'gutenberg',\n",
       " 'ebook',\n",
       " 'of',\n",
       " 'war',\n",
       " 'and',\n",
       " 'peace,',\n",
       " 'by',\n",
       " 'leo',\n",
       " 'tolstoy',\n",
       " '',\n",
       " 'this',\n",
       " 'ebook',\n",
       " 'is',\n",
       " 'for',\n",
       " 'the',\n",
       " 'use',\n",
       " 'of',\n",
       " 'anyone',\n",
       " 'anywhere',\n",
       " 'in',\n",
       " 'the',\n",
       " 'united',\n",
       " 'states',\n",
       " 'and',\n",
       " 'most',\n",
       " 'other',\n",
       " 'parts',\n",
       " 'of',\n",
       " 'the',\n",
       " 'world',\n",
       " 'at',\n",
       " 'no',\n",
       " 'cost',\n",
       " 'and',\n",
       " 'with',\n",
       " 'almost',\n",
       " 'no',\n",
       " 'restrictions',\n",
       " 'whatsoever',\n",
       " 'you',\n",
       " 'may',\n",
       " 'copy',\n",
       " 'it,',\n",
       " 'give',\n",
       " 'it',\n",
       " 'away',\n",
       " 'or',\n",
       " 're-use',\n",
       " 'it',\n",
       " 'under',\n",
       " 'the',\n",
       " 'terms',\n",
       " 'of',\n",
       " 'the',\n",
       " 'project',\n",
       " 'gutenberg',\n",
       " 'license',\n",
       " 'included',\n",
       " 'with',\n",
       " 'this',\n",
       " 'ebook',\n",
       " 'or',\n",
       " 'online',\n",
       " 'at',\n",
       " 'wwwgutenbergorg',\n",
       " 'if',\n",
       " 'you',\n",
       " 'are',\n",
       " 'not',\n",
       " 'located',\n",
       " 'in',\n",
       " 'the',\n",
       " 'united',\n",
       " 'states,',\n",
       " 'you',\n",
       " 'will',\n",
       " 'have',\n",
       " 'to',\n",
       " 'check',\n",
       " 'the',\n",
       " 'laws',\n",
       " 'of',\n",
       " 'the',\n",
       " 'country',\n",
       " 'where',\n",
       " 'you',\n",
       " 'are',\n",
       " 'located',\n",
       " 'before',\n",
       " 'using',\n",
       " 'this',\n",
       " 'ebook',\n",
       " '',\n",
       " 'title:',\n",
       " 'war',\n",
       " 'and',\n",
       " 'peace',\n",
       " '']"
      ]
     },
     "execution_count": 15,
     "metadata": {},
     "output_type": "execute_result"
    }
   ],
   "source": [
    "list_of_words[:100]"
   ]
  },
  {
   "cell_type": "code",
   "execution_count": 16,
   "id": "revised-joseph",
   "metadata": {},
   "outputs": [],
   "source": [
    "deduped_words = set(list_of_words)"
   ]
  },
  {
   "cell_type": "code",
   "execution_count": 17,
   "id": "transparent-advocacy",
   "metadata": {},
   "outputs": [
    {
     "data": {
      "text/plain": [
       "34749"
      ]
     },
     "execution_count": 17,
     "metadata": {},
     "output_type": "execute_result"
    }
   ],
   "source": [
    "len(deduped_words)"
   ]
  },
  {
   "cell_type": "code",
   "execution_count": 18,
   "id": "sublime-belgium",
   "metadata": {},
   "outputs": [],
   "source": [
    "from collections import Counter"
   ]
  },
  {
   "cell_type": "code",
   "execution_count": 19,
   "id": "explicit-plaintiff",
   "metadata": {},
   "outputs": [],
   "source": [
    "counter = Counter(list_of_words)"
   ]
  },
  {
   "cell_type": "code",
   "execution_count": 20,
   "id": "signal-artwork",
   "metadata": {},
   "outputs": [
    {
     "data": {
      "text/plain": [
       "34749"
      ]
     },
     "execution_count": 20,
     "metadata": {},
     "output_type": "execute_result"
    }
   ],
   "source": [
    "len(counter)"
   ]
  },
  {
   "cell_type": "code",
   "execution_count": 22,
   "id": "fitted-visit",
   "metadata": {},
   "outputs": [
    {
     "data": {
      "text/plain": [
       "2"
      ]
     },
     "execution_count": 22,
     "metadata": {},
     "output_type": "execute_result"
    }
   ],
   "source": [
    "counter.get('tolstoy')"
   ]
  },
  {
   "cell_type": "code",
   "execution_count": 23,
   "id": "needed-there",
   "metadata": {},
   "outputs": [],
   "source": [
    "deduped_list = list(deduped_words)"
   ]
  },
  {
   "cell_type": "code",
   "execution_count": 24,
   "id": "southern-interest",
   "metadata": {},
   "outputs": [
    {
     "data": {
      "text/plain": [
       "(set, list)"
      ]
     },
     "execution_count": 24,
     "metadata": {},
     "output_type": "execute_result"
    }
   ],
   "source": [
    "type(deduped_words), type(deduped_list)"
   ]
  },
  {
   "cell_type": "code",
   "execution_count": 25,
   "id": "passive-leather",
   "metadata": {},
   "outputs": [
    {
     "name": "stdout",
     "output_type": "stream",
     "text": [
      "there are 34749 words in War and Peace\n"
     ]
    }
   ],
   "source": [
    "print(f\"there are {len(deduped_list)} words in War and Peace\")"
   ]
  },
  {
   "cell_type": "code",
   "execution_count": null,
   "id": "baking-murray",
   "metadata": {},
   "outputs": [],
   "source": []
  }
 ],
 "metadata": {
  "kernelspec": {
   "display_name": "Python 3",
   "language": "python",
   "name": "python3"
  },
  "language_info": {
   "codemirror_mode": {
    "name": "ipython",
    "version": 3
   },
   "file_extension": ".py",
   "mimetype": "text/x-python",
   "name": "python",
   "nbconvert_exporter": "python",
   "pygments_lexer": "ipython3",
   "version": "3.8.6"
  }
 },
 "nbformat": 4,
 "nbformat_minor": 5
}
