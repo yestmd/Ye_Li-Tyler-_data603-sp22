{
 "cells": [
  {
   "cell_type": "code",
   "execution_count": 1,
   "id": "sublime-emergency",
   "metadata": {},
   "outputs": [],
   "source": [
    "from pyspark.sql import SparkSession\n",
    "spark = SparkSession.builder.getOrCreate()"
   ]
  },
  {
   "cell_type": "code",
   "execution_count": 2,
   "id": "polished-collect",
   "metadata": {},
   "outputs": [
    {
     "name": "stdout",
     "output_type": "stream",
     "text": [
      "  % Total    % Received % Xferd  Average Speed   Time    Time     Time  Current\n",
      "                                 Dload  Upload   Total   Spent    Left  Speed\n",
      "100  9729  100  9729    0     0  52692      0 --:--:-- --:--:-- --:--:-- 57229\n"
     ]
    }
   ],
   "source": [
    "!curl https://raw.githubusercontent.com/mwaskom/seaborn-data/master/tips.csv -o tips.csv"
   ]
  },
  {
   "cell_type": "code",
   "execution_count": 3,
   "id": "british-gospel",
   "metadata": {},
   "outputs": [
    {
     "name": "stdout",
     "output_type": "stream",
     "text": [
      "\"total_bill\",\"tip\",\"sex\",\"smoker\",\"day\",\"time\",\"size\"\r\n",
      "16.99,1.01,\"Female\",\"No\",\"Sun\",\"Dinner\",2\r\n",
      "10.34,1.66,\"Male\",\"No\",\"Sun\",\"Dinner\",3\r\n",
      "21.01,3.5,\"Male\",\"No\",\"Sun\",\"Dinner\",3\r\n",
      "23.68,3.31,\"Male\",\"No\",\"Sun\",\"Dinner\",2\r\n",
      "24.59,3.61,\"Female\",\"No\",\"Sun\",\"Dinner\",4\r\n",
      "25.29,4.71,\"Male\",\"No\",\"Sun\",\"Dinner\",4\r\n",
      "8.77,2,\"Male\",\"No\",\"Sun\",\"Dinner\",2\r\n",
      "26.88,3.12,\"Male\",\"No\",\"Sun\",\"Dinner\",4\r\n",
      "15.04,1.96,\"Male\",\"No\",\"Sun\",\"Dinner\",2\r\n"
     ]
    }
   ],
   "source": [
    "!head tips.csv"
   ]
  },
  {
   "cell_type": "code",
   "execution_count": 4,
   "id": "fallen-explosion",
   "metadata": {},
   "outputs": [],
   "source": [
    "df = spark.read.csv('tips.csv', header=True, inferSchema=True)"
   ]
  },
  {
   "cell_type": "code",
   "execution_count": 5,
   "id": "crazy-catholic",
   "metadata": {},
   "outputs": [
    {
     "name": "stdout",
     "output_type": "stream",
     "text": [
      "+----------+----+------+------+---+------+----+\n",
      "|total_bill| tip|   sex|smoker|day|  time|size|\n",
      "+----------+----+------+------+---+------+----+\n",
      "|     16.99|1.01|Female|    No|Sun|Dinner|   2|\n",
      "|     10.34|1.66|  Male|    No|Sun|Dinner|   3|\n",
      "|     21.01| 3.5|  Male|    No|Sun|Dinner|   3|\n",
      "|     23.68|3.31|  Male|    No|Sun|Dinner|   2|\n",
      "|     24.59|3.61|Female|    No|Sun|Dinner|   4|\n",
      "+----------+----+------+------+---+------+----+\n",
      "only showing top 5 rows\n",
      "\n"
     ]
    }
   ],
   "source": [
    "df.show(5)"
   ]
  },
  {
   "cell_type": "code",
   "execution_count": 7,
   "id": "frequent-scoop",
   "metadata": {},
   "outputs": [
    {
     "name": "stdout",
     "output_type": "stream",
     "text": [
      "root\n",
      " |-- total_bill: double (nullable = true)\n",
      " |-- tip: double (nullable = true)\n",
      " |-- sex: string (nullable = true)\n",
      " |-- smoker: string (nullable = true)\n",
      " |-- day: string (nullable = true)\n",
      " |-- time: string (nullable = true)\n",
      " |-- size: integer (nullable = true)\n",
      "\n"
     ]
    }
   ],
   "source": [
    "df.printSchema()"
   ]
  },
  {
   "cell_type": "code",
   "execution_count": 8,
   "id": "logical-guatemala",
   "metadata": {},
   "outputs": [],
   "source": [
    "from pyspark.ml.feature import RFormula"
   ]
  },
  {
   "cell_type": "code",
   "execution_count": 9,
   "id": "alpine-beads",
   "metadata": {},
   "outputs": [],
   "source": [
    "rf = RFormula(formula=\"tip ~ sex*smoker\") # same thing as sex + smoker + sex:smoker\n",
    "                                          # y = b0 + b1*sex + b2*smoker + b3*sex*smoker"
   ]
  },
  {
   "cell_type": "code",
   "execution_count": 12,
   "id": "introductory-romania",
   "metadata": {},
   "outputs": [],
   "source": [
    "rf_model = rf.fit(df)"
   ]
  },
  {
   "cell_type": "code",
   "execution_count": 14,
   "id": "integral-conservative",
   "metadata": {},
   "outputs": [],
   "source": [
    "df2 = rf_model.transform(df)"
   ]
  },
  {
   "cell_type": "code",
   "execution_count": 15,
   "id": "hollow-pacific",
   "metadata": {},
   "outputs": [
    {
     "name": "stdout",
     "output_type": "stream",
     "text": [
      "+----------+----+------+------+---+------+----+--------------------+-----+\n",
      "|total_bill| tip|   sex|smoker|day|  time|size|            features|label|\n",
      "+----------+----+------+------+---+------+----+--------------------+-----+\n",
      "|     16.99|1.01|Female|    No|Sun|Dinner|   2|[16.99,0.0,1.0,0....| 1.01|\n",
      "|     10.34|1.66|  Male|    No|Sun|Dinner|   3|[10.34,1.0,1.0,0....| 1.66|\n",
      "|     21.01| 3.5|  Male|    No|Sun|Dinner|   3|[21.01,1.0,1.0,0....|  3.5|\n",
      "|     23.68|3.31|  Male|    No|Sun|Dinner|   2|[23.68,1.0,1.0,0....| 3.31|\n",
      "|     24.59|3.61|Female|    No|Sun|Dinner|   4|[24.59,0.0,1.0,0....| 3.61|\n",
      "+----------+----+------+------+---+------+----+--------------------+-----+\n",
      "only showing top 5 rows\n",
      "\n"
     ]
    }
   ],
   "source": [
    "df2.show(5)"
   ]
  },
  {
   "cell_type": "markdown",
   "id": "nervous-connectivity",
   "metadata": {},
   "source": [
    "# Decision Trees"
   ]
  },
  {
   "cell_type": "code",
   "execution_count": 17,
   "id": "specialized-pillow",
   "metadata": {},
   "outputs": [],
   "source": [
    "from pyspark.ml import Pipeline\n",
    "from pyspark.ml.classification import DecisionTreeClassifier\n",
    "from pyspark.ml.feature import StringIndexer, VectorIndexer\n",
    "from pyspark.ml.evaluation import MulticlassClassificationEvaluator"
   ]
  },
  {
   "cell_type": "code",
   "execution_count": 18,
   "id": "deadly-completion",
   "metadata": {},
   "outputs": [
    {
     "name": "stdout",
     "output_type": "stream",
     "text": [
      "  % Total    % Received % Xferd  Average Speed   Time    Time     Time  Current\n",
      "                                 Dload  Upload   Total   Spent    Left  Speed\n",
      "100  102k  100  102k    0     0   634k      0 --:--:-- --:--:-- --:--:--  700k\n"
     ]
    }
   ],
   "source": [
    "!curl https://raw.githubusercontent.com/apache/spark/master/data/mllib/sample_libsvm_data.txt -o sample_libsvm_data.txt"
   ]
  },
  {
   "cell_type": "code",
   "execution_count": 19,
   "id": "identified-maximum",
   "metadata": {},
   "outputs": [
    {
     "name": "stdout",
     "output_type": "stream",
     "text": [
      "+-----+--------------------+\n",
      "|label|            features|\n",
      "+-----+--------------------+\n",
      "|  0.0|(692,[127,128,129...|\n",
      "|  1.0|(692,[158,159,160...|\n",
      "|  1.0|(692,[124,125,126...|\n",
      "|  1.0|(692,[152,153,154...|\n",
      "|  1.0|(692,[151,152,153...|\n",
      "+-----+--------------------+\n",
      "only showing top 5 rows\n",
      "\n"
     ]
    }
   ],
   "source": [
    "data = spark.read.format(\"libsvm\").load(\"sample_libsvm_data.txt\")\n",
    "data.show(5)"
   ]
  },
  {
   "cell_type": "code",
   "execution_count": 20,
   "id": "hundred-chart",
   "metadata": {},
   "outputs": [],
   "source": [
    "labelIndexer = StringIndexer(inputCol=\"label\", outputCol=\"indexedLabel\").fit(data)\n",
    "# Automatically identify categorical features, and index them.\n",
    "# We specify maxCategories so features with > 4 distinct values are treated as continuous.\n",
    "featureIndexer = (\n",
    "    VectorIndexer(inputCol=\"features\", outputCol=\"indexedFeatures\", maxCategories=4).fit(data)\n",
    ")\n",
    "(trainingData, testData) = data.randomSplit([0.7, 0.3])\n",
    "dt = DecisionTreeClassifier(labelCol=\"indexedLabel\", featuresCol=\"indexedFeatures\")\n",
    "\n",
    "pipeline = Pipeline(stages=[labelIndexer, featureIndexer, dt])\n",
    "model = pipeline.fit(trainingData)\n"
   ]
  },
  {
   "cell_type": "code",
   "execution_count": 23,
   "id": "emerging-literature",
   "metadata": {},
   "outputs": [],
   "source": [
    "out_df = model.transform(testData)"
   ]
  },
  {
   "cell_type": "code",
   "execution_count": 25,
   "id": "mechanical-event",
   "metadata": {},
   "outputs": [
    {
     "name": "stdout",
     "output_type": "stream",
     "text": [
      "+-----+--------------------+------------+--------------------+-------------+-----------+----------+\n",
      "|label|            features|indexedLabel|     indexedFeatures|rawPrediction|probability|prediction|\n",
      "+-----+--------------------+------------+--------------------+-------------+-----------+----------+\n",
      "|  0.0|(692,[98,99,100,1...|         1.0|(692,[98,99,100,1...|   [0.0,30.0]|  [0.0,1.0]|       1.0|\n",
      "|  0.0|(692,[123,124,125...|         1.0|(692,[123,124,125...|   [0.0,30.0]|  [0.0,1.0]|       1.0|\n",
      "|  0.0|(692,[123,124,125...|         1.0|(692,[123,124,125...|   [0.0,30.0]|  [0.0,1.0]|       1.0|\n",
      "|  0.0|(692,[123,124,125...|         1.0|(692,[123,124,125...|   [0.0,30.0]|  [0.0,1.0]|       1.0|\n",
      "|  0.0|(692,[126,127,128...|         1.0|(692,[126,127,128...|   [0.0,30.0]|  [0.0,1.0]|       1.0|\n",
      "+-----+--------------------+------------+--------------------+-------------+-----------+----------+\n",
      "only showing top 5 rows\n",
      "\n"
     ]
    }
   ],
   "source": [
    "out_df.show(5)"
   ]
  },
  {
   "cell_type": "code",
   "execution_count": null,
   "id": "relevant-johns",
   "metadata": {},
   "outputs": [],
   "source": []
  }
 ],
 "metadata": {
  "kernelspec": {
   "display_name": "Python 3",
   "language": "python",
   "name": "python3"
  },
  "language_info": {
   "codemirror_mode": {
    "name": "ipython",
    "version": 3
   },
   "file_extension": ".py",
   "mimetype": "text/x-python",
   "name": "python",
   "nbconvert_exporter": "python",
   "pygments_lexer": "ipython3",
   "version": "3.8.6"
  }
 },
 "nbformat": 4,
 "nbformat_minor": 5
}
