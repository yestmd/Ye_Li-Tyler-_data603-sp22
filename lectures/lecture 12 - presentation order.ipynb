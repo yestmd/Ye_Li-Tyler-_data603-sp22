{
 "cells": [
  {
   "cell_type": "code",
   "execution_count": 1,
   "id": "medieval-court",
   "metadata": {},
   "outputs": [],
   "source": [
    "from pyspark.sql import SparkSession\n",
    "spark = SparkSession.builder.getOrCreate()"
   ]
  },
  {
   "cell_type": "code",
   "execution_count": 2,
   "id": "prompt-costs",
   "metadata": {},
   "outputs": [],
   "source": [
    "students = [\n",
    "  (\"Addis\",),\n",
    "  (\"Akshitha\",),\n",
    "  (\"Alex\",),\n",
    "  (\"Anuja\",),\n",
    "  (\"Bhanu\",),\n",
    "  (\"Hafsa\",),\n",
    "  (\"Jessie\",),\n",
    "  (\"Joshua\",),\n",
    "  (\"Manoj\",),\n",
    "  (\"Michaella\",),\n",
    "  (\"Nic A.\",),\n",
    "  (\"Nicholas G.\",),\n",
    "  (\"Nick O.\",),\n",
    "  (\"Sachin\",),\n",
    "  (\"Shivani\",),\n",
    "  (\"Shreya\",),\n",
    "  (\"Shwetha\",),\n",
    "  (\"Sukesh\",),\n",
    "  (\"Sumanth\",),\n",
    "  (\"Suraj\",),\n",
    "  (\"Udveg\",),\n",
    "  (\"Vyshnavi\",),\n",
    "  (\"Ye\",),\n",
    "]"
   ]
  },
  {
   "cell_type": "code",
   "execution_count": 3,
   "id": "stretch-command",
   "metadata": {},
   "outputs": [
    {
     "name": "stdout",
     "output_type": "stream",
     "text": [
      "+-----------+\n",
      "|       Name|\n",
      "+-----------+\n",
      "|      Addis|\n",
      "|   Akshitha|\n",
      "|       Alex|\n",
      "|      Anuja|\n",
      "|      Bhanu|\n",
      "|      Hafsa|\n",
      "|     Jessie|\n",
      "|     Joshua|\n",
      "|      Manoj|\n",
      "|  Michaella|\n",
      "|     Nic A.|\n",
      "|Nicholas G.|\n",
      "|    Nick O.|\n",
      "|     Sachin|\n",
      "|    Shivani|\n",
      "|     Shreya|\n",
      "|    Shwetha|\n",
      "|     Sukesh|\n",
      "|    Sumanth|\n",
      "|      Suraj|\n",
      "+-----------+\n",
      "only showing top 20 rows\n",
      "\n"
     ]
    }
   ],
   "source": [
    "df = spark.createDataFrame(students, ['Name'])\n",
    "df.show()\n"
   ]
  },
  {
   "cell_type": "code",
   "execution_count": 4,
   "id": "surprised-christian",
   "metadata": {},
   "outputs": [
    {
     "name": "stdout",
     "output_type": "stream",
     "text": [
      "+-----------+\n",
      "|       Name|\n",
      "+-----------+\n",
      "|      Hafsa|\n",
      "|     Jessie|\n",
      "|      Addis|\n",
      "|      Bhanu|\n",
      "|     Joshua|\n",
      "|  Michaella|\n",
      "|      Suraj|\n",
      "|Nicholas G.|\n",
      "|    Shivani|\n",
      "|    Nick O.|\n",
      "|      Udveg|\n",
      "|     Sachin|\n",
      "|    Sumanth|\n",
      "|         Ye|\n",
      "|      Manoj|\n",
      "|      Anuja|\n",
      "|   Vyshnavi|\n",
      "|     Nic A.|\n",
      "|   Akshitha|\n",
      "|     Sukesh|\n",
      "|     Shreya|\n",
      "|    Shwetha|\n",
      "|       Alex|\n",
      "+-----------+\n",
      "\n"
     ]
    }
   ],
   "source": [
    "from pyspark.sql.functions import rand\n",
    "df.orderBy(rand()).show(25)"
   ]
  },
  {
   "cell_type": "code",
   "execution_count": null,
   "id": "adult-delight",
   "metadata": {},
   "outputs": [],
   "source": []
  }
 ],
 "metadata": {
  "kernelspec": {
   "display_name": "Python 3",
   "language": "python",
   "name": "python3"
  },
  "language_info": {
   "codemirror_mode": {
    "name": "ipython",
    "version": 3
   },
   "file_extension": ".py",
   "mimetype": "text/x-python",
   "name": "python",
   "nbconvert_exporter": "python",
   "pygments_lexer": "ipython3",
   "version": "3.8.6"
  }
 },
 "nbformat": 4,
 "nbformat_minor": 5
}
