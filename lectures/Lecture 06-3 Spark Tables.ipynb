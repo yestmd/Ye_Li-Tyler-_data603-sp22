{
 "cells": [
  {
   "cell_type": "markdown",
   "metadata": {
    "application/vnd.databricks.v1+cell": {
     "inputWidgets": {},
     "nuid": "7574b66b-6627-4ada-adf0-828bb9b95489",
     "showTitle": false,
     "title": ""
    }
   },
   "source": [
    "d\n",
    "# Spark Tables\n",
    "\n",
    "This notebook shows how to use Spark Catalog Interface API to query databases, tables, and columns.\n",
    "\n",
    "A full list of documented methods is available [here](https://spark.apache.org/docs/latest/api/python/pyspark.sql.html#pyspark.sql.Catalog)"
   ]
  },
  {
   "cell_type": "code",
   "execution_count": 0,
   "metadata": {
    "application/vnd.databricks.v1+cell": {
     "inputWidgets": {},
     "nuid": "3b0b64d4-bbe1-44c3-adf0-98b98dbf49e1",
     "showTitle": false,
     "title": ""
    }
   },
   "outputs": [],
   "source": [
    "us_flights_file = \"/databricks-datasets/learning-spark-v2/flights/departuredelays.csv\""
   ]
  },
  {
   "cell_type": "markdown",
   "metadata": {
    "application/vnd.databricks.v1+cell": {
     "inputWidgets": {},
     "nuid": "75f4be92-34d0-46f6-8818-71ea5f0133eb",
     "showTitle": false,
     "title": ""
    }
   },
   "source": [
    "### Create Managed Tables"
   ]
  },
  {
   "cell_type": "code",
   "execution_count": 0,
   "metadata": {
    "application/vnd.databricks.v1+cell": {
     "inputWidgets": {},
     "nuid": "6280af83-3d3c-41e1-bf04-e426905aff6a",
     "showTitle": false,
     "title": ""
    }
   },
   "outputs": [],
   "source": [
    "# Create database and managed tables\n",
    "spark.sql(\"DROP DATABASE IF EXISTS learn_spark_db CASCADE\") \n",
    "spark.sql(\"CREATE DATABASE learn_spark_db\")\n",
    "spark.sql(\"USE learn_spark_db\")\n",
    "spark.sql(\"CREATE TABLE us_delay_flights_tbl(date STRING, delay INT, distance INT, origin STRING, destination STRING)\")"
   ]
  },
  {
   "cell_type": "markdown",
   "metadata": {
    "application/vnd.databricks.v1+cell": {
     "inputWidgets": {},
     "nuid": "8ff2bfaa-d897-4bfc-b205-fccef7fa8ed6",
     "showTitle": false,
     "title": ""
    }
   },
   "source": [
    "### Display the databases"
   ]
  },
  {
   "cell_type": "code",
   "execution_count": 0,
   "metadata": {
    "application/vnd.databricks.v1+cell": {
     "inputWidgets": {},
     "nuid": "60b15a17-82ed-4faf-978a-bf430b305c8a",
     "showTitle": false,
     "title": ""
    }
   },
   "outputs": [],
   "source": [
    "display(spark.catalog.listDatabases())"
   ]
  },
  {
   "cell_type": "markdown",
   "metadata": {
    "application/vnd.databricks.v1+cell": {
     "inputWidgets": {},
     "nuid": "560d753a-7110-40d2-9b3d-91e51d283327",
     "showTitle": false,
     "title": ""
    }
   },
   "source": [
    "## Read our US Flights table"
   ]
  },
  {
   "cell_type": "code",
   "execution_count": 0,
   "metadata": {
    "application/vnd.databricks.v1+cell": {
     "inputWidgets": {},
     "nuid": "695b8778-7b84-48c9-9da8-5c7505ba697b",
     "showTitle": false,
     "title": ""
    }
   },
   "outputs": [],
   "source": [
    "df = (spark.read.format(\"csv\")\n",
    "      .schema(\"date STRING, delay INT, distance INT, origin STRING, destination STRING\")\n",
    "      .option(\"header\", \"true\")\n",
    "      .option(\"path\", \"/databricks-datasets/learning-spark-v2/flights/departuredelays.csv\")\n",
    "      .load())"
   ]
  },
  {
   "cell_type": "markdown",
   "metadata": {
    "application/vnd.databricks.v1+cell": {
     "inputWidgets": {},
     "nuid": "11c78da5-e221-4183-9553-a79e4c2719ae",
     "showTitle": false,
     "title": ""
    }
   },
   "source": [
    "## Save into our table"
   ]
  },
  {
   "cell_type": "code",
   "execution_count": 0,
   "metadata": {
    "application/vnd.databricks.v1+cell": {
     "inputWidgets": {},
     "nuid": "d1a03824-f3de-4602-891b-1243a5a095be",
     "showTitle": false,
     "title": ""
    }
   },
   "outputs": [],
   "source": [
    "df.write.mode(\"overwrite\").saveAsTable(\"us_delay_flights_tbl\")"
   ]
  },
  {
   "cell_type": "markdown",
   "metadata": {
    "application/vnd.databricks.v1+cell": {
     "inputWidgets": {},
     "nuid": "ba15d1d4-3d0d-4055-937b-872cad0512d7",
     "showTitle": false,
     "title": ""
    }
   },
   "source": [
    "## Cache the Table"
   ]
  },
  {
   "cell_type": "code",
   "execution_count": 0,
   "metadata": {
    "application/vnd.databricks.v1+cell": {
     "inputWidgets": {},
     "nuid": "5b6d2c34-b810-4b10-aa8c-22179f97c8bc",
     "showTitle": false,
     "title": ""
    }
   },
   "outputs": [],
   "source": [
    "%sql\n",
    "CACHE TABLE us_delay_flights_tbl"
   ]
  },
  {
   "cell_type": "markdown",
   "metadata": {
    "application/vnd.databricks.v1+cell": {
     "inputWidgets": {},
     "nuid": "c4c470ce-3d26-4277-aa9b-f76172a73529",
     "showTitle": false,
     "title": ""
    }
   },
   "source": [
    "Check if the table is cached"
   ]
  },
  {
   "cell_type": "code",
   "execution_count": 0,
   "metadata": {
    "application/vnd.databricks.v1+cell": {
     "inputWidgets": {},
     "nuid": "308deac7-cb55-4b6b-b11b-d89e68abba5f",
     "showTitle": false,
     "title": ""
    }
   },
   "outputs": [],
   "source": [
    "spark.catalog.isCached(\"us_delay_flights_tbl\")"
   ]
  },
  {
   "cell_type": "markdown",
   "metadata": {
    "application/vnd.databricks.v1+cell": {
     "inputWidgets": {},
     "nuid": "d0638716-ddbb-45e8-89d6-c2d422a8a0ef",
     "showTitle": false,
     "title": ""
    }
   },
   "source": [
    "### Display tables within a Database\n",
    "\n",
    "Note that the table is MANGED by Spark"
   ]
  },
  {
   "cell_type": "code",
   "execution_count": 0,
   "metadata": {
    "application/vnd.databricks.v1+cell": {
     "inputWidgets": {},
     "nuid": "43606000-01d8-4462-ac03-c1c4b5937e20",
     "showTitle": false,
     "title": ""
    }
   },
   "outputs": [],
   "source": [
    "spark.catalog.listTables(dbName=\"learn_spark_db\")"
   ]
  },
  {
   "cell_type": "markdown",
   "metadata": {
    "application/vnd.databricks.v1+cell": {
     "inputWidgets": {},
     "nuid": "70222faf-50dd-41e4-ba6b-05fe7efb7a0e",
     "showTitle": false,
     "title": ""
    }
   },
   "source": [
    "### Display Columns for a table"
   ]
  },
  {
   "cell_type": "code",
   "execution_count": 0,
   "metadata": {
    "application/vnd.databricks.v1+cell": {
     "inputWidgets": {},
     "nuid": "a8656290-b769-4c6e-b007-89bf81e60222",
     "showTitle": false,
     "title": ""
    }
   },
   "outputs": [],
   "source": [
    "spark.catalog.listColumns(\"us_delay_flights_tbl\")"
   ]
  },
  {
   "cell_type": "markdown",
   "metadata": {
    "application/vnd.databricks.v1+cell": {
     "inputWidgets": {},
     "nuid": "4d760fa7-ff07-4ad2-9712-e386521bc217",
     "showTitle": false,
     "title": ""
    }
   },
   "source": [
    "### Create Unmanaged Tables"
   ]
  },
  {
   "cell_type": "code",
   "execution_count": 0,
   "metadata": {
    "application/vnd.databricks.v1+cell": {
     "inputWidgets": {},
     "nuid": "340353ca-a059-473c-97e8-3fb898935931",
     "showTitle": false,
     "title": ""
    }
   },
   "outputs": [],
   "source": [
    "# Drop the database and create unmanaged tables\n",
    "spark.sql(\"DROP DATABASE IF EXISTS learn_spark_db CASCADE\")\n",
    "spark.sql(\"CREATE DATABASE learn_spark_db\")\n",
    "spark.sql(\"USE learn_spark_db\")\n",
    "spark.sql(\"CREATE TABLE us_delay_flights_tbl (date STRING, delay INT, distance INT, origin STRING, destination STRING) USING csv OPTIONS (path '/databricks-datasets/learning-spark-v2/flights/departuredelays.csv')\")"
   ]
  },
  {
   "cell_type": "markdown",
   "metadata": {
    "application/vnd.databricks.v1+cell": {
     "inputWidgets": {},
     "nuid": "38ff9613-33af-4409-9e22-8b9bfa7e4a0a",
     "showTitle": false,
     "title": ""
    }
   },
   "source": [
    "### Display Tables\n",
    "\n",
    "**Note**: The table type here that tableType='EXTERNAL', which indicates it's unmanaged by Spark, whereas above the tableType='MANAGED'"
   ]
  },
  {
   "cell_type": "code",
   "execution_count": 0,
   "metadata": {
    "application/vnd.databricks.v1+cell": {
     "inputWidgets": {},
     "nuid": "a47ceae6-2829-4888-89ac-e1594b9d5e47",
     "showTitle": false,
     "title": ""
    }
   },
   "outputs": [],
   "source": [
    "spark.catalog.listTables(dbName=\"learn_spark_db\")"
   ]
  },
  {
   "cell_type": "markdown",
   "metadata": {
    "application/vnd.databricks.v1+cell": {
     "inputWidgets": {},
     "nuid": "951e0d06-dc8c-4582-8eb9-7b2e9c0fe3fb",
     "showTitle": false,
     "title": ""
    }
   },
   "source": [
    "### Display Columns for a table"
   ]
  },
  {
   "cell_type": "code",
   "execution_count": 0,
   "metadata": {
    "application/vnd.databricks.v1+cell": {
     "inputWidgets": {},
     "nuid": "6e751c88-1812-4d13-9709-1d77d17584cb",
     "showTitle": false,
     "title": ""
    }
   },
   "outputs": [],
   "source": [
    "spark.catalog.listColumns(\"us_delay_flights_tbl\")\n"
   ]
  }
 ],
 "metadata": {
  "application/vnd.databricks.v1+notebook": {
   "dashboards": [],
   "language": "python",
   "notebookName": "4-3 Spark Tables",
   "notebookOrigID": 1711869132946950,
   "widgets": {}
  },
  "kernelspec": {
   "display_name": "Python 3",
   "language": "python",
   "name": "python3"
  },
  "language_info": {
   "codemirror_mode": {
    "name": "ipython",
    "version": 3
   },
   "file_extension": ".py",
   "mimetype": "text/x-python",
   "name": "python",
   "nbconvert_exporter": "python",
   "pygments_lexer": "ipython3",
   "version": "3.8.6"
  }
 },
 "nbformat": 4,
 "nbformat_minor": 1
}
